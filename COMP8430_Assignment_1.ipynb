{
  "cells": [
    {
      "cell_type": "markdown",
      "metadata": {
        "id": "wBhB0ur1J10M"
      },
      "source": [
        "# Fine-Grained Image Classification Coding Assignment\n",
        "\n",
        "## Assignment Requirements and Marking Rules\n",
        "\n",
        "This coding assignment is related to a fine-grained image classification task. It consists of four parts, each worth 5 points, totaling 20 points.\n",
        "\n",
        "## Late Assessment Submission Penalty\n",
        "Unless a Special Consideration request has been submitted and approved, a 5% penalty (of the total possible mark of the task) will be applied for each day a written report or presentation assessment is not submitted, up until the 7th day (including weekends). After the 7th day, a grade of ‘0’ will be awarded even if the assessment is submitted. The submission time for all uploaded assessments is 11:55 pm. A 1-hour grace period will be provided to students who experience a technical concern.  For any late submission of time-sensitive tasks, such as scheduled tests/exams, performance assessments/presentations, and/or scheduled practical assessments/labs, please apply for Special Consideration.\n",
        "\n",
        "\n",
        "\n",
        "## A note on the use of AI generators\n",
        "In this assignment, we view AI code generators such as copilot, CodeGPT, etc as tools that can help you write code quickly. You are allowed to use these tools, but with some conditions. To understand what you can and what you cannot do, please visit these information pages provided by Macquarie University.\n",
        "\n",
        "- Artificial Intelligence Tools and Academic Integrity in FSE - https://bit.ly/3uxgQP4\n",
        "\n",
        "If you choose to use these tools, make the following explicit in your Jupyter notebook, under a section with heading \"Use of AI generators in this assignment\" :\n",
        "\n",
        "- What part of your code is based on the output of such tools,\n",
        "- What tools you used,\n",
        "- What prompts you used to generate the code or text, and\n",
        "- What modifications you made on the generated code or text.\n",
        "- This will help us assess your work fairly.\n",
        "\n",
        "\n",
        "\n",
        "## Definition on fine-grained image classification\n",
        "The fine-grained image classification task aims to classify images at a sub-category level, in comparison to general image classification task. For example, general image classification aims to identify birds and dogs while fine-grained image classification aims to distinguish different species of birds. This task is a challenging task in computer vision as the visual difference between classes are more difficult to distinguish.\n",
        "\n",
        "### Part 1: Dataset Download (5 points)\n",
        "\n",
        "- **Task**: Download a fine-grained image dataset for classification task.\n",
        "- **Requirements**:\n",
        "  - Download fine-grained image dataset of FGVC-Aircraft, an aircraft classification dataset. The download webpage is \"https://www.robots.ox.ac.uk/~vgg/data/fgvc-aircraft/\".\n",
        "  - Implement code to read image from the downloaded dataset.\n",
        "  - Visualize sample images from training set and testing set, respectively.\n",
        "  - Score breakdown:\n",
        "    - 2 points: The code can read images from FGVC-Aircraft dataset.\n",
        "    - 2 points: Visualize 10 images from training set and 5 images from testing set.\n",
        "    - 1 point: Discuss what is your observation of the training set?\n",
        "- **What to submit:**\n",
        "  - Submit a1_part1.py file of python code to iLearn Assignment 1 submission. The code should be able to read images from FGVC-Aircraft dataset and can visualize 10 images from training set and 5 images from testing set.\n",
        "  - Your response to the discussion of what is your observation of the training set in below anwser box.\n",
        "\n",
        "### Part 2: Algorithm Selection (5 points)\n",
        "\n",
        "- **Task**: Select and test at 2 different deep learning methods.\n",
        "- **Requirements**:\n",
        "  - Include one self-designed method and one ResNet-50 model.\n",
        "  - Test ResNet-50 with both fine-tuning and transfer learning.\n",
        "  - Score breakdown:\n",
        "    - 3 points: Include 2 methods with the required models.\n",
        "    - 2 points: Test ResNet-50 with both fine-tuning and transfer learning.\n",
        "- **What to submit:**\n",
        "  - Submit a1_part2_m1.py file of python code to iLearn Assignment 1 submission. The code is to apply ResNet-50 to the classification of FGVC-Aircraft dataset with both fine-tuning setting and transfer learning setting. Testing code is also required.\n",
        "  - Submit a1_part2_m2.py file of python code to iLearn Assignment 1 submission. The code is to apply your self-designed CNN model to the classification of FGVC-Aircraft dataset. Testing code is also required.\n",
        "\n",
        "### Part 3: Performance Improvement (5 points)\n",
        "\n",
        "- **Task**: Implement strong data augmentation and a learning rate scheduler.\n",
        "- **Requirements**:\n",
        "  - Data augmentation must improve performance.\n",
        "  - Provide a reasonable analysis on the effectiveness of data augmentation.\n",
        "  - Score breakdown:\n",
        "    - 2 points: Data augmentation improves performance.\n",
        "    - 2 points: Implement a learning rate scheduler that improves performance.\n",
        "    - 1 point: Provide a proper analysis on data augmentation.\n",
        "- **What to submit:**\n",
        "  - Submit a1_part3_aug.py file of python code to iLearn Assignment 1 submission. The code is to enable strong data augmentation to your designed model. Testing code is also required. An improved classification accuracy is expected.\n",
        "  - Submit a1_part3_lr.py file of python code to iLearn Assignment 1 submission. The code is to enable an improved learning rate to your designed model. Testing code is also required. An improved classification accuracy is expected.\n",
        "  - Your response of reasonable analysis on the effectiveness of data augmentation in below anwser box.\n",
        "\n",
        "### Part 4: Deeper Analysis (5 points)\n",
        "\n",
        "- **Task**: Analyze limitations of the dataset and algorithms, propose improvements.\n",
        "- **Requirements**:\n",
        "  - Identify dataset limitations.\n",
        "  - Discuss limitations of the 2 algorithms.\n",
        "  - Apply GAN and Deepdream for augmentation and anaylysis.\n",
        "  - Score breakdown:\n",
        "    - 1 point: Identify dataset limitations.\n",
        "    - 1 point: Discuss limitations of the 2 algorithms.\n",
        "    - 1 point: Apply GAN to generate 10 sample images of any one class in FGVC-Aircraft dataset.\n",
        "    - 2 points: Apply Deepdream algorithm and show 3 resulting images.\n",
        "- **What to submit:**\n",
        "  - Submit a1_part4_GAN.py file of python code to iLearn Assignment 1 submission. The code is to apply GAN to generate 10 samples based on any one of the categories from FGVC-Aircraft dataset. The 10 sample images visualization is required in the code.\n",
        "  - Submit a1_part4_Deep.py file of python code to iLearn Assignment 1 submission. The code is to apply Deepdream to generate 3 resulting images. The visualization of resulting images is required in the code.\n",
        "  - Your response to dataset limitation in below anwser box.\n",
        "  - Your response to limitation of the two methods in below anwser box.\n",
        "  \n",
        "## Evaluation Criteria\n",
        "\n",
        "Your assignment will be evaluated based on the following criteria:\n",
        "\n",
        "- Fulfillment of assignment requirements.\n",
        "- Design and testing of deep learning methods.\n",
        "- Implementation of performance improvement techniques.\n",
        "- Depth of analysis and proposed improvements.\n"
      ]
    },
    {
      "cell_type": "markdown",
      "metadata": {
        "id": "_TNRyctCJ10S"
      },
      "source": [
        "## Input your response below\n",
        "\n",
        "\n"
      ]
    },
    {
      "cell_type": "markdown",
      "metadata": {
        "id": "_rgv0ohwp4XH"
      },
      "source": [
        "### Part 1: Dataset Downloading"
      ]
    },
    {
      "cell_type": "markdown",
      "metadata": {
        "id": "QHScAA3wq_Td"
      },
      "source": [
        "Discuss your observations from the training set"
      ]
    },
    {
      "cell_type": "code",
      "execution_count": null,
      "metadata": {
        "id": "l6U93mcxrFM6"
      },
      "outputs": [],
      "source": [
        "# Your answer here"
      ]
    },
    {
      "cell_type": "markdown",
      "metadata": {
        "id": "nWMjQ7xKJ10d"
      },
      "source": [
        "### Part 3: Performance Improvement\n"
      ]
    },
    {
      "cell_type": "markdown",
      "metadata": {
        "id": "0o6zH1_nJ10d"
      },
      "source": [
        "Answer to data augmentation analysis and accuracy:"
      ]
    },
    {
      "cell_type": "code",
      "execution_count": null,
      "metadata": {
        "id": "snFUhaTCJ10e"
      },
      "outputs": [],
      "source": [
        "# Your answer here"
      ]
    },
    {
      "cell_type": "markdown",
      "metadata": {
        "id": "y6xhiX76J10f"
      },
      "source": [
        "### Part 4: Deeper Analysis\n"
      ]
    },
    {
      "cell_type": "markdown",
      "metadata": {
        "id": "bh-erFwer2G1"
      },
      "source": [
        "\n",
        "  - Your response to dataset limitation in below anwser box.\n"
      ]
    },
    {
      "cell_type": "code",
      "execution_count": null,
      "metadata": {
        "id": "vo7heo-rJ10g"
      },
      "outputs": [],
      "source": [
        "# Your answer here"
      ]
    },
    {
      "cell_type": "markdown",
      "metadata": {
        "id": "hsXQ5fnaKuHd"
      },
      "source": [
        "\n",
        "  - Your response to limitation of the two methods in below anwser box."
      ]
    },
    {
      "cell_type": "code",
      "execution_count": null,
      "metadata": {
        "id": "pFznvVRtK03o"
      },
      "outputs": [],
      "source": [
        "# Your answer here"
      ]
    }
  ],
  "metadata": {
    "colab": {
      "provenance": []
    },
    "kernelspec": {
      "display_name": "devg",
      "language": "python",
      "name": "python3"
    },
    "language_info": {
      "codemirror_mode": {
        "name": "ipython",
        "version": 3
      },
      "file_extension": ".py",
      "mimetype": "text/x-python",
      "name": "python",
      "nbconvert_exporter": "python",
      "pygments_lexer": "ipython3",
      "version": "3.8.19"
    }
  },
  "nbformat": 4,
  "nbformat_minor": 0
}
